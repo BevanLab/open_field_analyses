{
 "cells": [
  {
   "cell_type": "code",
   "execution_count": 85,
   "id": "narrative-pencil",
   "metadata": {
    "scrolled": false
   },
   "outputs": [],
   "source": [
    "import numpy as np\n",
    "import pandas as pd\n",
    "import matplotlib.pyplot as plt\n",
    "import scipy\n",
    "from scipy.optimize import curve_fit\n",
    "from scipy import stats\n",
    "import random\n",
    "%matplotlib inline"
   ]
  },
  {
   "cell_type": "markdown",
   "id": "million-first",
   "metadata": {},
   "source": [
    "# Data\n",
    "\n",
    "Up until now, we have a CSV that has a lot of information, but first and foremost, it has the manually curated start step and stop step signifiers. Let's go ahead and import this file."
   ]
  },
  {
   "cell_type": "code",
   "execution_count": 2,
   "id": "statutory-cleaners",
   "metadata": {},
   "outputs": [],
   "source": [
    "step_seconds = pd.read_csv('./data/step_seconds.csv')"
   ]
  },
  {
   "cell_type": "markdown",
   "id": "exact-jordan",
   "metadata": {},
   "source": [
    "Let's do a little investigating. How does this look like? "
   ]
  },
  {
   "cell_type": "code",
   "execution_count": 3,
   "id": "innocent-contribution",
   "metadata": {},
   "outputs": [
    {
     "data": {
      "text/html": [
       "<div>\n",
       "<style scoped>\n",
       "    .dataframe tbody tr th:only-of-type {\n",
       "        vertical-align: middle;\n",
       "    }\n",
       "\n",
       "    .dataframe tbody tr th {\n",
       "        vertical-align: top;\n",
       "    }\n",
       "\n",
       "    .dataframe thead th {\n",
       "        text-align: right;\n",
       "    }\n",
       "</style>\n",
       "<table border=\"1\" class=\"dataframe\">\n",
       "  <thead>\n",
       "    <tr style=\"text-align: right;\">\n",
       "      <th></th>\n",
       "      <th>Mouse</th>\n",
       "      <th>Video</th>\n",
       "      <th>Start Time</th>\n",
       "      <th>End Time</th>\n",
       "      <th>Genotype</th>\n",
       "      <th>h5</th>\n",
       "    </tr>\n",
       "  </thead>\n",
       "  <tbody>\n",
       "    <tr>\n",
       "      <th>0</th>\n",
       "      <td>1057</td>\n",
       "      <td>1057-2</td>\n",
       "      <td>03:54.5</td>\n",
       "      <td>03:55.5</td>\n",
       "      <td>MitoPark</td>\n",
       "      <td>D:\\DLC-training\\bottom_mp_paws-Ameet-2021-03-2...</td>\n",
       "    </tr>\n",
       "    <tr>\n",
       "      <th>1</th>\n",
       "      <td>1057</td>\n",
       "      <td>1057-2</td>\n",
       "      <td>03:55.5</td>\n",
       "      <td>03:55.9</td>\n",
       "      <td>MitoPark</td>\n",
       "      <td>D:\\DLC-training\\bottom_mp_paws-Ameet-2021-03-2...</td>\n",
       "    </tr>\n",
       "    <tr>\n",
       "      <th>2</th>\n",
       "      <td>1057</td>\n",
       "      <td>1057-2</td>\n",
       "      <td>03:56.3</td>\n",
       "      <td>03:56.9</td>\n",
       "      <td>MitoPark</td>\n",
       "      <td>D:\\DLC-training\\bottom_mp_paws-Ameet-2021-03-2...</td>\n",
       "    </tr>\n",
       "    <tr>\n",
       "      <th>3</th>\n",
       "      <td>1057</td>\n",
       "      <td>1057-2</td>\n",
       "      <td>03:56.9</td>\n",
       "      <td>03:58.7</td>\n",
       "      <td>MitoPark</td>\n",
       "      <td>D:\\DLC-training\\bottom_mp_paws-Ameet-2021-03-2...</td>\n",
       "    </tr>\n",
       "    <tr>\n",
       "      <th>4</th>\n",
       "      <td>1057</td>\n",
       "      <td>1057-2</td>\n",
       "      <td>03:58.7</td>\n",
       "      <td>03:58.8</td>\n",
       "      <td>MitoPark</td>\n",
       "      <td>D:\\DLC-training\\bottom_mp_paws-Ameet-2021-03-2...</td>\n",
       "    </tr>\n",
       "  </tbody>\n",
       "</table>\n",
       "</div>"
      ],
      "text/plain": [
       "   Mouse   Video Start Time End Time  Genotype  \\\n",
       "0   1057  1057-2    03:54.5  03:55.5  MitoPark   \n",
       "1   1057  1057-2    03:55.5  03:55.9  MitoPark   \n",
       "2   1057  1057-2    03:56.3  03:56.9  MitoPark   \n",
       "3   1057  1057-2    03:56.9  03:58.7  MitoPark   \n",
       "4   1057  1057-2    03:58.7  03:58.8  MitoPark   \n",
       "\n",
       "                                                  h5  \n",
       "0  D:\\DLC-training\\bottom_mp_paws-Ameet-2021-03-2...  \n",
       "1  D:\\DLC-training\\bottom_mp_paws-Ameet-2021-03-2...  \n",
       "2  D:\\DLC-training\\bottom_mp_paws-Ameet-2021-03-2...  \n",
       "3  D:\\DLC-training\\bottom_mp_paws-Ameet-2021-03-2...  \n",
       "4  D:\\DLC-training\\bottom_mp_paws-Ameet-2021-03-2...  "
      ]
     },
     "execution_count": 3,
     "metadata": {},
     "output_type": "execute_result"
    }
   ],
   "source": [
    "step_seconds.head()"
   ]
  },
  {
   "cell_type": "markdown",
   "id": "pediatric-miami",
   "metadata": {},
   "source": [
    "Notably, we will mainly use the `Start Time` and `End Time` columns in our initial analyses. The other columns will come into play when we export our data. "
   ]
  },
  {
   "cell_type": "markdown",
   "id": "charitable-layout",
   "metadata": {},
   "source": [
    "Cool! Now, let's move on to our video data. To start with, we'll be looking at mouse `1058`. This is a Wild Type mouse where we extracted roughly 50 steps. We have it's MitoPark counterpart to analyze right after this, but this should be a good test case, since there's more ambulation and tracking looks better. "
   ]
  },
  {
   "cell_type": "code",
   "execution_count": 136,
   "id": "lightweight-celebration",
   "metadata": {},
   "outputs": [],
   "source": [
    "h5_file = step_seconds[step_seconds['Mouse'] == 1058]['h5'][18]\n",
    "DLCscorer = \"DLC_resnet101_bottom_mp_pawsMar24shuffle1_150000\"\n",
    "fps = 100\n",
    "h5_file\n",
    "h5_file = 'C:\\\\Users\\\\ameet\\\\Box Sync\\\\BevanLab\\\\MitoPark Labeled videos\\\\1058-bottomDLC_resnet101_bottom_mp_pawsMar24shuffle1_150000.h5'"
   ]
  },
  {
   "cell_type": "code",
   "execution_count": 137,
   "id": "corresponding-suggestion",
   "metadata": {},
   "outputs": [],
   "source": [
    "Dataframe = pd.read_hdf(h5_file)"
   ]
  },
  {
   "cell_type": "code",
   "execution_count": 138,
   "id": "honey-sodium",
   "metadata": {},
   "outputs": [
    {
     "data": {
      "text/html": [
       "<div>\n",
       "<style scoped>\n",
       "    .dataframe tbody tr th:only-of-type {\n",
       "        vertical-align: middle;\n",
       "    }\n",
       "\n",
       "    .dataframe tbody tr th {\n",
       "        vertical-align: top;\n",
       "    }\n",
       "\n",
       "    .dataframe thead tr th {\n",
       "        text-align: left;\n",
       "    }\n",
       "</style>\n",
       "<table border=\"1\" class=\"dataframe\">\n",
       "  <thead>\n",
       "    <tr>\n",
       "      <th>bodyparts</th>\n",
       "      <th colspan=\"3\" halign=\"left\">snout</th>\n",
       "      <th colspan=\"3\" halign=\"left\">front-left-paw</th>\n",
       "      <th colspan=\"3\" halign=\"left\">front-right-paw</th>\n",
       "      <th colspan=\"3\" halign=\"left\">back-left-paw</th>\n",
       "      <th colspan=\"3\" halign=\"left\">back-right-paw</th>\n",
       "      <th colspan=\"3\" halign=\"left\">tail-base</th>\n",
       "      <th colspan=\"3\" halign=\"left\">tail-tip</th>\n",
       "    </tr>\n",
       "    <tr>\n",
       "      <th>coords</th>\n",
       "      <th>x</th>\n",
       "      <th>y</th>\n",
       "      <th>likelihood</th>\n",
       "      <th>x</th>\n",
       "      <th>y</th>\n",
       "      <th>likelihood</th>\n",
       "      <th>x</th>\n",
       "      <th>y</th>\n",
       "      <th>likelihood</th>\n",
       "      <th>x</th>\n",
       "      <th>...</th>\n",
       "      <th>likelihood</th>\n",
       "      <th>x</th>\n",
       "      <th>y</th>\n",
       "      <th>likelihood</th>\n",
       "      <th>x</th>\n",
       "      <th>y</th>\n",
       "      <th>likelihood</th>\n",
       "      <th>x</th>\n",
       "      <th>y</th>\n",
       "      <th>likelihood</th>\n",
       "    </tr>\n",
       "  </thead>\n",
       "  <tbody>\n",
       "    <tr>\n",
       "      <th>0</th>\n",
       "      <td>1160.304321</td>\n",
       "      <td>121.739525</td>\n",
       "      <td>0.976528</td>\n",
       "      <td>1127.999512</td>\n",
       "      <td>121.199562</td>\n",
       "      <td>0.992451</td>\n",
       "      <td>1149.799927</td>\n",
       "      <td>152.669495</td>\n",
       "      <td>0.998574</td>\n",
       "      <td>1080.829956</td>\n",
       "      <td>...</td>\n",
       "      <td>0.998443</td>\n",
       "      <td>1160.195923</td>\n",
       "      <td>218.734772</td>\n",
       "      <td>0.976575</td>\n",
       "      <td>1099.939697</td>\n",
       "      <td>261.104309</td>\n",
       "      <td>0.999752</td>\n",
       "      <td>1136.585815</td>\n",
       "      <td>551.220154</td>\n",
       "      <td>0.064094</td>\n",
       "    </tr>\n",
       "    <tr>\n",
       "      <th>1</th>\n",
       "      <td>1165.209717</td>\n",
       "      <td>119.440590</td>\n",
       "      <td>0.994910</td>\n",
       "      <td>1129.429199</td>\n",
       "      <td>119.272461</td>\n",
       "      <td>0.987429</td>\n",
       "      <td>1151.413208</td>\n",
       "      <td>153.026657</td>\n",
       "      <td>0.988309</td>\n",
       "      <td>1081.149048</td>\n",
       "      <td>...</td>\n",
       "      <td>0.998007</td>\n",
       "      <td>1159.900269</td>\n",
       "      <td>215.889313</td>\n",
       "      <td>0.977093</td>\n",
       "      <td>1099.593628</td>\n",
       "      <td>261.481445</td>\n",
       "      <td>0.999607</td>\n",
       "      <td>1136.843872</td>\n",
       "      <td>550.501282</td>\n",
       "      <td>0.507525</td>\n",
       "    </tr>\n",
       "    <tr>\n",
       "      <th>2</th>\n",
       "      <td>1167.804443</td>\n",
       "      <td>118.316597</td>\n",
       "      <td>0.994074</td>\n",
       "      <td>1129.130005</td>\n",
       "      <td>119.135582</td>\n",
       "      <td>0.986190</td>\n",
       "      <td>1154.743164</td>\n",
       "      <td>152.503525</td>\n",
       "      <td>0.996352</td>\n",
       "      <td>1080.376953</td>\n",
       "      <td>...</td>\n",
       "      <td>0.997838</td>\n",
       "      <td>1159.762939</td>\n",
       "      <td>216.020508</td>\n",
       "      <td>0.983254</td>\n",
       "      <td>1098.627075</td>\n",
       "      <td>261.550507</td>\n",
       "      <td>0.999532</td>\n",
       "      <td>1013.421936</td>\n",
       "      <td>422.120972</td>\n",
       "      <td>0.991843</td>\n",
       "    </tr>\n",
       "    <tr>\n",
       "      <th>3</th>\n",
       "      <td>1170.293091</td>\n",
       "      <td>119.441521</td>\n",
       "      <td>0.994837</td>\n",
       "      <td>1129.144531</td>\n",
       "      <td>119.082062</td>\n",
       "      <td>0.989963</td>\n",
       "      <td>1155.489014</td>\n",
       "      <td>152.735092</td>\n",
       "      <td>0.997444</td>\n",
       "      <td>1080.462646</td>\n",
       "      <td>...</td>\n",
       "      <td>0.998132</td>\n",
       "      <td>1159.267700</td>\n",
       "      <td>215.132843</td>\n",
       "      <td>0.984205</td>\n",
       "      <td>1098.182251</td>\n",
       "      <td>260.333923</td>\n",
       "      <td>0.999627</td>\n",
       "      <td>1013.796753</td>\n",
       "      <td>421.956665</td>\n",
       "      <td>0.995607</td>\n",
       "    </tr>\n",
       "    <tr>\n",
       "      <th>4</th>\n",
       "      <td>1171.930420</td>\n",
       "      <td>119.485130</td>\n",
       "      <td>0.994221</td>\n",
       "      <td>1128.467041</td>\n",
       "      <td>119.849808</td>\n",
       "      <td>0.983335</td>\n",
       "      <td>1154.174438</td>\n",
       "      <td>153.646713</td>\n",
       "      <td>0.996663</td>\n",
       "      <td>1080.125977</td>\n",
       "      <td>...</td>\n",
       "      <td>0.998287</td>\n",
       "      <td>1159.213379</td>\n",
       "      <td>214.324371</td>\n",
       "      <td>0.977796</td>\n",
       "      <td>1097.234375</td>\n",
       "      <td>259.946442</td>\n",
       "      <td>0.999470</td>\n",
       "      <td>1012.661133</td>\n",
       "      <td>420.814545</td>\n",
       "      <td>0.994094</td>\n",
       "    </tr>\n",
       "  </tbody>\n",
       "</table>\n",
       "<p>5 rows × 21 columns</p>\n",
       "</div>"
      ],
      "text/plain": [
       "bodyparts        snout                        front-left-paw              \\\n",
       "coords               x           y likelihood              x           y   \n",
       "0          1160.304321  121.739525   0.976528    1127.999512  121.199562   \n",
       "1          1165.209717  119.440590   0.994910    1129.429199  119.272461   \n",
       "2          1167.804443  118.316597   0.994074    1129.130005  119.135582   \n",
       "3          1170.293091  119.441521   0.994837    1129.144531  119.082062   \n",
       "4          1171.930420  119.485130   0.994221    1128.467041  119.849808   \n",
       "\n",
       "bodyparts            front-right-paw                        back-left-paw  \\\n",
       "coords    likelihood               x           y likelihood             x   \n",
       "0           0.992451     1149.799927  152.669495   0.998574   1080.829956   \n",
       "1           0.987429     1151.413208  153.026657   0.988309   1081.149048   \n",
       "2           0.986190     1154.743164  152.503525   0.996352   1080.376953   \n",
       "3           0.989963     1155.489014  152.735092   0.997444   1080.462646   \n",
       "4           0.983335     1154.174438  153.646713   0.996663   1080.125977   \n",
       "\n",
       "bodyparts  ...            back-right-paw                           tail-base  \\\n",
       "coords     ... likelihood              x           y likelihood            x   \n",
       "0          ...   0.998443    1160.195923  218.734772   0.976575  1099.939697   \n",
       "1          ...   0.998007    1159.900269  215.889313   0.977093  1099.593628   \n",
       "2          ...   0.997838    1159.762939  216.020508   0.983254  1098.627075   \n",
       "3          ...   0.998132    1159.267700  215.132843   0.984205  1098.182251   \n",
       "4          ...   0.998287    1159.213379  214.324371   0.977796  1097.234375   \n",
       "\n",
       "bodyparts                            tail-tip                         \n",
       "coords              y likelihood            x           y likelihood  \n",
       "0          261.104309   0.999752  1136.585815  551.220154   0.064094  \n",
       "1          261.481445   0.999607  1136.843872  550.501282   0.507525  \n",
       "2          261.550507   0.999532  1013.421936  422.120972   0.991843  \n",
       "3          260.333923   0.999627  1013.796753  421.956665   0.995607  \n",
       "4          259.946442   0.999470  1012.661133  420.814545   0.994094  \n",
       "\n",
       "[5 rows x 21 columns]"
      ]
     },
     "execution_count": 138,
     "metadata": {},
     "output_type": "execute_result"
    }
   ],
   "source": [
    "Dataframe[DLCscorer].head()"
   ]
  },
  {
   "cell_type": "markdown",
   "id": "legitimate-certificate",
   "metadata": {},
   "source": [
    "# Paw analysis\n",
    "Let's start by looking at each paw"
   ]
  },
  {
   "cell_type": "code",
   "execution_count": 7,
   "id": "focused-equilibrium",
   "metadata": {},
   "outputs": [],
   "source": [
    "start_time = '00:09.550'\n",
    "end_time = '00:09.730'\n"
   ]
  },
  {
   "cell_type": "code",
   "execution_count": 8,
   "id": "third-leadership",
   "metadata": {},
   "outputs": [],
   "source": [
    "def convert_time_to_seconds (time: str) -> int:\n",
    "    \n",
    "    \"\"\"\n",
    "    Takes time in the form MM:SS:ms and converts to seconds\n",
    "    \"\"\"\n",
    "    time = time.split(':')\n",
    "    out = int(time[0] * 60) + float(time[1])\n",
    "    return out"
   ]
  },
  {
   "cell_type": "code",
   "execution_count": 9,
   "id": "instrumental-helping",
   "metadata": {},
   "outputs": [],
   "source": [
    "start_sec = convert_time_to_seconds(start_time)\n",
    "end_sec = convert_time_to_seconds(end_time)"
   ]
  },
  {
   "cell_type": "code",
   "execution_count": 10,
   "id": "infectious-northern",
   "metadata": {},
   "outputs": [
    {
     "data": {
      "text/plain": [
       "0.18"
      ]
     },
     "execution_count": 10,
     "metadata": {},
     "output_type": "execute_result"
    }
   ],
   "source": [
    "np.round(end_sec - start_sec, 2)"
   ]
  },
  {
   "cell_type": "markdown",
   "id": "human-rebate",
   "metadata": {},
   "source": [
    "Looks like this step was about .18 seconds in duration"
   ]
  },
  {
   "cell_type": "code",
   "execution_count": 139,
   "id": "engaged-wednesday",
   "metadata": {},
   "outputs": [],
   "source": [
    "def get_snippet(data, bodypart, DLCScorer, start_sec, end_sec, fps) -> pd.DataFrame: \n",
    "    return data[DLCscorer][bodypart][int(start_sec * fps): int(end_sec * fps)]"
   ]
  },
  {
   "cell_type": "code",
   "execution_count": 140,
   "id": "acknowledged-lambda",
   "metadata": {},
   "outputs": [],
   "source": [
    "back_left = get_snippet(Dataframe, 'back-left-paw', DLCscorer, start_sec, end_sec, fps)\n",
    "back_right = get_snippet(Dataframe, 'back-right-paw', DLCscorer, start_sec, end_sec, fps)\n",
    "\n",
    "\n",
    "front_left = get_snippet(Dataframe, 'front-left-paw', DLCscorer, start_sec, end_sec, fps)\n",
    "front_right = get_snippet(Dataframe, 'front-right-paw', DLCscorer, start_sec, end_sec, fps)"
   ]
  },
  {
   "cell_type": "code",
   "execution_count": 141,
   "id": "quiet-emission",
   "metadata": {},
   "outputs": [
    {
     "data": {
      "image/png": "[encoded data removed]",
      "text/plain": [
       "<Figure size 432x288 with 1 Axes>"
      ]
     },
     "metadata": {
      "needs_background": "light"
     },
     "output_type": "display_data"
    }
   ],
   "source": [
    "plt.plot(back_left['x'], back_left['y'], color = 'red', label = 'back left')\n",
    "plt.plot(back_right['x'], back_right['y'], color = 'blue', label = 'back right')\n",
    "plt.plot(front_right['x'], front_right['y'], color = 'green', label = 'front right')\n",
    "plt.plot(front_left['x'], front_left['y'], color = 'black', label = 'front left')\n",
    "plt.title('Single Footstep')\n",
    "plt.legend()\n",
    "plt.show()"
   ]
  },
  {
   "cell_type": "markdown",
   "id": "unlimited-incident",
   "metadata": {},
   "source": [
    "Ok, it's claer that our front left data is a little skewed. Let's try and figure out a way to fix this. "
   ]
  },
  {
   "cell_type": "code",
   "execution_count": 142,
   "id": "standing-visibility",
   "metadata": {},
   "outputs": [],
   "source": [
    "def polynomial(x, a,b,c, d):\n",
    "    return a + b*x + c*x*x + d * x * x * x\n",
    "\n",
    "\n",
    "def fit_paw_to_polynomial(paw):\n",
    "    timedata = np.linspace(0, paw['x'].size, paw['x'].size)\n",
    "    xdata = paw['x']\n",
    "    ydata = paw['y']\n",
    "    popt_x, pcov = curve_fit(polynomial, timedata, xdata)\n",
    "    popt_y, pcov = curve_fit(polynomial, timedata, ydata)\n",
    "    return polynomial(time, popt_x[0], popt_x[1], popt_x[2]), polynomial(time, popt_y[0], popt_y[1], popt_y[2])"
   ]
  },
  {
   "cell_type": "code",
   "execution_count": 143,
   "id": "possible-smile",
   "metadata": {},
   "outputs": [
    {
     "data": {
      "text/plain": [
       "<matplotlib.legend.Legend at 0x2301c86aa60>"
      ]
     },
     "execution_count": 143,
     "metadata": {},
     "output_type": "execute_result"
    },
    {
     "data": {
      "image/png": "[encoded data removed]",
      "text/plain": [
       "<Figure size 432x288 with 1 Axes>"
      ]
     },
     "metadata": {
      "needs_background": "light"
     },
     "output_type": "display_data"
    }
   ],
   "source": [
    "time = np.arange(front_left['x'].shape[0])\n",
    "np.random.seed(1729)\n",
    "noise = 0.2 * np.random.normal(size=front_left['x'].size)\n",
    "plt.plot(time, front_left['x'] + noise, color = 'red', label = 'front left x')\n",
    "\n",
    "plt.plot(time, front_left['y'] + noise, color = 'green', label = 'front left y')\n",
    "plt.legend()\n"
   ]
  },
  {
   "cell_type": "code",
   "execution_count": 144,
   "id": "divine-attachment",
   "metadata": {},
   "outputs": [],
   "source": [
    "timedata = np.linspace(0, 18, front_left['x'].size)\n",
    "xdata = np.copy(front_left['x'])\n",
    "ydata = np.copy(front_left['y'])"
   ]
  },
  {
   "cell_type": "code",
   "execution_count": 145,
   "id": "systematic-breathing",
   "metadata": {},
   "outputs": [],
   "source": [
    "popt_x, pcov_x = curve_fit(polynomial, timedata, xdata)\n",
    "popt_y, pcov_y = curve_fit(polynomial, timedata, ydata)"
   ]
  },
  {
   "cell_type": "code",
   "execution_count": null,
   "id": "suitable-audit",
   "metadata": {},
   "outputs": [],
   "source": []
  },
  {
   "cell_type": "markdown",
   "id": "suspected-request",
   "metadata": {},
   "source": [
    "1) Fit polynomial \n",
    "2) Get 2 * cdf(- abs(dist/stderr)) -> Two tailed test - tells you if you're on either tail of distribution of line\n",
    "3) Sample according to probabilities from 2\n",
    "4) Repeat steps 1-3 until params of polynomial don't change up to some epsilon"
   ]
  },
  {
   "cell_type": "code",
   "execution_count": 146,
   "id": "multiple-palace",
   "metadata": {},
   "outputs": [],
   "source": [
    "def flip(p):\n",
    "    return True if random.random() < p else False"
   ]
  },
  {
   "cell_type": "code",
   "execution_count": 83,
   "id": "configured-alpha",
   "metadata": {},
   "outputs": [
    {
     "name": "stderr",
     "output_type": "stream",
     "text": [
      "C:\\Users\\ameet\\Anaconda3\\envs\\notebooks\\lib\\site-packages\\scipy\\optimize\\minpack.py:755: RuntimeWarning: divide by zero encountered in true_divide\n",
      "  transform = 1.0 / sigma\n"
     ]
    },
    {
     "name": "stdout",
     "output_type": "stream",
     "text": [
      "955    1.317948e+00\n",
      "956    0.000000e+00\n",
      "957   -7.861817e-01\n",
      "958   -9.607145e-01\n",
      "959   -1.287351e+00\n",
      "960    2.999943e+00\n",
      "961    1.923659e+00\n",
      "962   -5.397591e-01\n",
      "963   -3.291472e-01\n",
      "964   -3.285295e-01\n",
      "965    1.116309e-06\n",
      "966   -4.949625e-02\n",
      "967    5.506348e-02\n",
      "968   -1.301426e-01\n",
      "969   -1.275229e-01\n",
      "970    3.841094e-12\n",
      "971   -2.329160e-10\n",
      "972    1.084835e-01\n",
      "Name: x, dtype: float64\n",
      "955    1.317948e+00\n",
      "956    0.000000e+00\n",
      "957   -7.861817e-01\n",
      "958   -9.607145e-01\n",
      "959   -1.287351e+00\n",
      "960    2.999943e+00\n",
      "961    1.923659e+00\n",
      "962   -5.397591e-01\n",
      "963   -3.291472e-01\n",
      "964   -3.285295e-01\n",
      "965    1.116309e-06\n",
      "966   -4.949625e-02\n",
      "967    5.506348e-02\n",
      "968   -1.301426e-01\n",
      "969   -1.275229e-01\n",
      "970    3.841094e-12\n",
      "971   -2.329160e-10\n",
      "972    1.084835e-01\n",
      "Name: x, dtype: float64\n",
      "955    1.317948e+00\n",
      "956    0.000000e+00\n",
      "957   -7.861817e-01\n",
      "958   -9.607145e-01\n",
      "959   -1.287351e+00\n",
      "960    2.999943e+00\n",
      "961    1.923659e+00\n",
      "962   -5.397591e-01\n",
      "963   -3.291472e-01\n",
      "964   -3.285295e-01\n",
      "965    1.116309e-06\n",
      "966   -4.949625e-02\n",
      "967    5.506348e-02\n",
      "968   -1.301426e-01\n",
      "969   -1.275229e-01\n",
      "970    3.841094e-12\n",
      "971   -2.329160e-10\n",
      "972    1.084835e-01\n",
      "Name: x, dtype: float64\n",
      "955    1.317948e+00\n",
      "956    0.000000e+00\n",
      "957   -7.861817e-01\n",
      "958   -9.607145e-01\n",
      "959   -1.287351e+00\n",
      "960    2.999943e+00\n",
      "961    1.923659e+00\n",
      "962   -5.397591e-01\n",
      "963   -3.291472e-01\n",
      "964   -3.285295e-01\n",
      "965    1.116309e-06\n",
      "966   -4.949625e-02\n",
      "967    5.506348e-02\n",
      "968   -1.301426e-01\n",
      "969   -1.275229e-01\n",
      "970    3.841094e-12\n",
      "971   -2.329160e-10\n",
      "972    1.084835e-01\n",
      "Name: x, dtype: float64\n",
      "955    1.317948e+00\n",
      "956    0.000000e+00\n",
      "957   -7.861817e-01\n",
      "958   -9.607145e-01\n",
      "959   -1.287351e+00\n",
      "960    2.999943e+00\n",
      "961    1.923659e+00\n",
      "962   -5.397591e-01\n",
      "963   -3.291472e-01\n",
      "964   -3.285295e-01\n",
      "965    1.116309e-06\n",
      "966   -4.949625e-02\n",
      "967    5.506348e-02\n",
      "968   -1.301426e-01\n",
      "969   -1.275229e-01\n",
      "970    3.841094e-12\n",
      "971   -2.329160e-10\n",
      "972    1.084835e-01\n",
      "Name: x, dtype: float64\n",
      "955    1.317948e+00\n",
      "956    0.000000e+00\n",
      "957   -7.861817e-01\n",
      "958   -9.607145e-01\n",
      "959   -1.287351e+00\n",
      "960    2.999943e+00\n",
      "961    1.923659e+00\n",
      "962   -5.397591e-01\n",
      "963   -3.291472e-01\n",
      "964   -3.285295e-01\n",
      "965    1.116309e-06\n",
      "966   -4.949625e-02\n",
      "967    5.506348e-02\n",
      "968   -1.301426e-01\n",
      "969   -1.275229e-01\n",
      "970    3.841094e-12\n",
      "971   -2.329160e-10\n",
      "972    1.084835e-01\n",
      "Name: x, dtype: float64\n"
     ]
    },
    {
     "data": {
      "image/png": "[encoded data removed]",
      "text/plain": [
       "<Figure size 432x288 with 1 Axes>"
      ]
     },
     "metadata": {
      "needs_background": "light"
     },
     "output_type": "display_data"
    }
   ],
   "source": [
    "popt_x, pcov_x = curve_fit(polynomial, timedata, xdata)\n",
    "plt.plot(timedata, polynomial(timedata, *popt_x), label = 'init')\n",
    "for i in range(2):\n",
    "    perr = np.sqrt(np.diag(pcov_x))\n",
    "    dist = xdata - polynomial(timedata, *popt_x)\n",
    "    \n",
    "    stderr = dist/np.std(dist)\n",
    "    try:\n",
    "        popt_x, pcov_x = curve_fit(polynomial, timedata, xdata, sigma = np.stderr)\n",
    "        plt.plot(timedata, polynomial(timedata, *popt_x), label = i)\n",
    "    except Exception as e:\n",
    "        print(stderr)\n",
    "        \n",
    "plt.legend()\n",
    "plt.show()"
   ]
  },
  {
   "cell_type": "code",
   "execution_count": 147,
   "id": "biological-jacksonville",
   "metadata": {
    "scrolled": false
   },
   "outputs": [
    {
     "data": {
      "image/png": "[encoded data removed]",
      "text/plain": [
       "<Figure size 432x288 with 1 Axes>"
      ]
     },
     "metadata": {
      "needs_background": "light"
     },
     "output_type": "display_data"
    },
    {
     "data": {
      "image/png": "[encoded data removed]",
      "text/plain": [
       "<Figure size 432x288 with 1 Axes>"
      ]
     },
     "metadata": {
      "needs_background": "light"
     },
     "output_type": "display_data"
    }
   ],
   "source": [
    "perr = np.sqrt(np.diag(pcov_x))\n",
    "dist = xdata - polynomial(timedata, *popt_x)\n",
    "#plt.plot(time, dist)\n",
    "stderr = np.std(dist)\n",
    "p_values = 2 * stats.norm.cdf(-np.abs(dist/stderr), 0, 1)\n",
    "plt.plot(timedata, 2 * stats.norm.cdf(-np.abs(dist/stderr), 0, 1), label = 'dist/stderr')\n",
    "plt.show()\n",
    "plt.plot(timedata, dist, color = 'red', label = 'dist')\n",
    "plt.show()"
   ]
  },
  {
   "cell_type": "code",
   "execution_count": 153,
   "id": "expected-brooklyn",
   "metadata": {},
   "outputs": [
    {
     "data": {
      "text/plain": [
       "array([0, 2, 3, 4, 5, 6, 7])"
      ]
     },
     "execution_count": 153,
     "metadata": {},
     "output_type": "execute_result"
    }
   ],
   "source": [
    "def sample_and_replace(p_values, data, polynomial, timedata, popt_x)\n",
    "    \"\"\"\n",
    "    Samples with p-values and replaces with polynomial values in place. \n",
    "    \"\"\"\n",
    "    to_replace = np.array(list(filter(lambda p: np.random.random() < (1 - p[1]), enumerate(p_values))))\n",
    "    to_replace_idx = np.array([int(i[0]) for i in to_replace])\n",
    "    data[to_replace_idx] = polynomial(timedata, *popt_x)[to_replace_idx]"
   ]
  },
  {
   "cell_type": "code",
   "execution_count": 150,
   "id": "polished-penalty",
   "metadata": {},
   "outputs": [],
   "source": []
  },
  {
   "cell_type": "code",
   "execution_count": 152,
   "id": "smaller-romantic",
   "metadata": {},
   "outputs": [
    {
     "data": {
      "image/png": "[encoded data removed]",
      "text/plain": [
       "<Figure size 432x288 with 1 Axes>"
      ]
     },
     "metadata": {
      "needs_background": "light"
     },
     "output_type": "display_data"
    }
   ],
   "source": [
    "plt.plot(time, front_left['x'], color = 'red', label = 'front left raw data')\n",
    "plt.plot(timedata, xdata, 'r--', label = 'FITTED & sampled')\n",
    "plt.legend()\n",
    "plt.savefig('test.png')"
   ]
  },
  {
   "cell_type": "code",
   "execution_count": 65,
   "id": "british-joining",
   "metadata": {},
   "outputs": [],
   "source": [
    "popt_x, pcov_x = curve_fit(polynomial, timedata, xdata, sigma = stderr)\n"
   ]
  },
  {
   "cell_type": "code",
   "execution_count": null,
   "id": "offshore-drunk",
   "metadata": {},
   "outputs": [],
   "source": []
  },
  {
   "cell_type": "code",
   "execution_count": 71,
   "id": "miniature-vault",
   "metadata": {},
   "outputs": [
    {
     "data": {
      "text/plain": [
       "[<matplotlib.lines.Line2D at 0x23021f1b760>]"
      ]
     },
     "execution_count": 71,
     "metadata": {},
     "output_type": "execute_result"
    },
    {
     "data": {
      "image/png": "[encoded data removed]",
      "text/plain": [
       "<Figure size 432x288 with 1 Axes>"
      ]
     },
     "metadata": {
      "needs_background": "light"
     },
     "output_type": "display_data"
    }
   ],
   "source": [
    "plt.plot(timedata, polynomial(timedata, *popt_x), 'b--')\n",
    "plt.plot(timedata, polynomial(timedata, *popt_x_init), 'r--')\n",
    "plt.plot(timedata, xdata)\n"
   ]
  },
  {
   "cell_type": "code",
   "execution_count": null,
   "id": "exciting-rebel",
   "metadata": {},
   "outputs": [],
   "source": []
  },
  {
   "cell_type": "code",
   "execution_count": 35,
   "id": "social-austria",
   "metadata": {},
   "outputs": [
    {
     "ename": "TypeError",
     "evalue": "score() missing 2 required positional arguments: 'X' and 'y'",
     "output_type": "error",
     "traceback": [
      "\u001b[1;31m---------------------------------------------------------------------------\u001b[0m",
      "\u001b[1;31mTypeError\u001b[0m                                 Traceback (most recent call last)",
      "\u001b[1;32m<ipython-input-35-208ed01e3368>\u001b[0m in \u001b[0;36m<module>\u001b[1;34m\u001b[0m\n\u001b[1;32m----> 1\u001b[1;33m \u001b[0mreg\u001b[0m\u001b[1;33m.\u001b[0m\u001b[0mscore\u001b[0m\u001b[1;33m(\u001b[0m\u001b[1;33m)\u001b[0m\u001b[1;33m\u001b[0m\u001b[1;33m\u001b[0m\u001b[0m\n\u001b[0m",
      "\u001b[1;31mTypeError\u001b[0m: score() missing 2 required positional arguments: 'X' and 'y'"
     ]
    }
   ],
   "source": []
  },
  {
   "cell_type": "code",
   "execution_count": 33,
   "id": "surprising-glucose",
   "metadata": {},
   "outputs": [
    {
     "data": {
      "text/plain": [
       "[<matplotlib.lines.Line2D at 0x230212c8760>]"
      ]
     },
     "execution_count": 33,
     "metadata": {},
     "output_type": "execute_result"
    },
    {
     "data": {
      "image/png": "[encoded data removed]",
      "text/plain": [
       "<Figure size 432x288 with 1 Axes>"
      ]
     },
     "metadata": {
      "needs_background": "light"
     },
     "output_type": "display_data"
    }
   ],
   "source": [
    "plt.plot(timedata, polynomial(timedata, reg.intercept_ ,reg.coef_[0],reg.coef_[1], 0), color = 'red')\n",
    "plt.plot(time, front_left['x'], color = 'blue', label = 'front left x', alpha = .5)\n"
   ]
  },
  {
   "cell_type": "code",
   "execution_count": 115,
   "id": "overhead-canyon",
   "metadata": {},
   "outputs": [
    {
     "data": {
      "text/plain": [
       "<matplotlib.legend.Legend at 0x24919ad5f08>"
      ]
     },
     "execution_count": 115,
     "metadata": {},
     "output_type": "execute_result"
    },
    {
     "data": {
      "image/png": "[encoded data removed]",
      "text/plain": [
       "<Figure size 432x288 with 1 Axes>"
      ]
     },
     "metadata": {
      "needs_background": "light"
     },
     "output_type": "display_data"
    }
   ],
   "source": [
    "plt.plot(time, front_left['x'], color = 'red', label = 'front left x')\n",
    "plt.plot(time, polynomial(time, popt_x[0], popt_x[1], popt_x[2]), 'r--', label = 'front left x fitted')\n",
    "plt.plot(time, front_left['y'], color = 'blue', label = 'front left y', alpha = .5)\n",
    "plt.plot(time, polynomial(time, popt_y[0], popt_y[1], popt_y[2]), 'b--', label = 'front left y fitted')\n",
    "plt.legend()"
   ]
  },
  {
   "cell_type": "code",
   "execution_count": 127,
   "id": "spanish-missile",
   "metadata": {},
   "outputs": [
    {
     "data": {
      "image/png": "[encoded data removed]",
      "text/plain": [
       "<Figure size 432x288 with 1 Axes>"
      ]
     },
     "metadata": {
      "needs_background": "light"
     },
     "output_type": "display_data"
    }
   ],
   "source": [
    "plt.plot(back_left['x'], back_left['y'], color = 'red', label = 'back left')\n",
    "fitted_x, fitted_y = fit_paw_to_polynomial(back_left)\n",
    "plt.plot(fitted_x, fitted_y, 'r--', label = 'FITTED back left')\n",
    "plt.plot(back_right['x'], back_right['y'], color = 'black', label = 'back right')\n",
    "fitted_x, fitted_y = fit_paw_to_polynomial(back_right)\n",
    "plt.plot(fitted_x, fitted_y, 'k--', label = 'FITTED back right')\n",
    "plt.plot(front_right['x'], front_right['y'], color = 'green', label = 'front right')\n",
    "fitted_x, fitted_y = fit_paw_to_polynomial(front_right)\n",
    "plt.plot(fitted_x, fitted_y, 'g--', label = 'FITTED front right')\n",
    "plt.plot(front_left['x'], front_left['y'], color = 'blue', label = 'front left')\n",
    "plt.plot(polynomial(time, popt_x[0], popt_x[1], popt_x[2]), polynomial(time, popt_y[0], popt_y[1], popt_y[2]), 'b--', label = 'FITTED front left')\n",
    "plt.title('Single Footstep')\n",
    "plt.legend()\n",
    "plt.savefig('fitpoly.png')\n",
    "plt.show()"
   ]
  },
  {
   "cell_type": "code",
   "execution_count": null,
   "id": "sublime-robinson",
   "metadata": {},
   "outputs": [],
   "source": []
  },
  {
   "cell_type": "code",
   "execution_count": null,
   "id": "short-kazakhstan",
   "metadata": {},
   "outputs": [],
   "source": []
  },
  {
   "cell_type": "code",
   "execution_count": null,
   "id": "architectural-rehabilitation",
   "metadata": {},
   "outputs": [],
   "source": []
  }
 ],
 "metadata": {
  "kernelspec": {
   "display_name": "Python 3",
   "language": "python",
   "name": "python3"
  },
  "language_info": {
   "codemirror_mode": {
    "name": "ipython",
    "version": 3
   },
   "file_extension": ".py",
   "mimetype": "text/x-python",
   "name": "python",
   "nbconvert_exporter": "python",
   "pygments_lexer": "ipython3",
   "version": "3.9.2"
  }
 },
 "nbformat": 4,
 "nbformat_minor": 5
}
